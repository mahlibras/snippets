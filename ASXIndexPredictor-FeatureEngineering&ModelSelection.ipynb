{
 "cells": [
  {
   "cell_type": "markdown",
   "metadata": {},
   "source": [
    "# Data Science Use Case: ASX Index Predictor Model - Part 2\n",
    "# Written by: Ricky Chang\n",
    "\n",
    "## 3) Feature engineering\n",
    "### Given the raw dataset, what scaling and transformations can be applied to individual features to improve model fit accuracy?\n",
    "\n",
    "Which scaler should be used to scale features? It depends on the feature distribution. Chi-square goodness of fit test can indicate whether the chosen transformation is suitable."
   ]
  },
  {
   "cell_type": "code",
   "execution_count": 155,
   "metadata": {},
   "outputs": [],
   "source": [
    "import pandas as pd\n",
    "import tensorflow as ts\n",
    "import seaborn as sns\n",
    "sns.set()\n",
    "import sklearn as sk\n",
    "import numpy as np\n",
    "import scipy\n",
    "import statsmodels.api as sm\n",
    "import matplotlib.pyplot as plt\n",
    "import math\n",
    "# apply fix to statsmodels library\n",
    "from scipy import stats\n",
    "stats.chisquareprob = lambda chisq, df: stats.chi2.sf(chisq,df)"
   ]
  },
  {
   "cell_type": "markdown",
   "metadata": {},
   "source": [
    "### Read in the joined raw dataset"
   ]
  },
  {
   "cell_type": "code",
   "execution_count": 148,
   "metadata": {},
   "outputs": [],
   "source": [
    "folder = ''\n",
    "df_asset = pd.read_csv(filepath_or_buffer = folder + 'df_asset.csv', index_col=0)"
   ]
  },
  {
   "cell_type": "markdown",
   "metadata": {},
   "source": [
    "This code snippet performs these steps:\n",
    "1. Creates a new feature 'CopperGoldRatio', which is a bullish economic indicator. Given the hypothesis that equity stock indices reflect the overall economy, then the CopperGoldRatio and index prices should be positively correlated as well.\n",
    "1. Creates new features from asset prices suffixed with '(Return %)'. This is the first step in normalisation of raw prices.\n",
    "1. Natural log is applied to the (Return %) features. This is a non-linear transformation which in effect scales the features to a normal distribution, if the raw prices were lognormally distributed.\n",
    "1. Drop all NA records."
   ]
  },
  {
   "cell_type": "code",
   "execution_count": 163,
   "metadata": {},
   "outputs": [
    {
     "name": "stderr",
     "output_type": "stream",
     "text": [
      "C:\\Users\\mahle\\Anaconda3\\lib\\site-packages\\ipykernel_launcher.py:6: SettingWithCopyWarning: \n",
      "A value is trying to be set on a copy of a slice from a DataFrame.\n",
      "Try using .loc[row_indexer,col_indexer] = value instead\n",
      "\n",
      "See the caveats in the documentation: http://pandas.pydata.org/pandas-docs/stable/indexing.html#indexing-view-versus-copy\n",
      "  \n",
      "C:\\Users\\mahle\\Anaconda3\\lib\\site-packages\\ipykernel_launcher.py:9: SettingWithCopyWarning: \n",
      "A value is trying to be set on a copy of a slice from a DataFrame.\n",
      "Try using .loc[row_indexer,col_indexer] = value instead\n",
      "\n",
      "See the caveats in the documentation: http://pandas.pydata.org/pandas-docs/stable/indexing.html#indexing-view-versus-copy\n",
      "  if __name__ == '__main__':\n",
      "C:\\Users\\mahle\\Anaconda3\\lib\\site-packages\\ipykernel_launcher.py:13: SettingWithCopyWarning: \n",
      "A value is trying to be set on a copy of a slice from a DataFrame.\n",
      "Try using .loc[row_indexer,col_indexer] = value instead\n",
      "\n",
      "See the caveats in the documentation: http://pandas.pydata.org/pandas-docs/stable/indexing.html#indexing-view-versus-copy\n",
      "  del sys.path[0]\n"
     ]
    }
   ],
   "source": [
    "from sklearn.preprocessing import StandardScaler\n",
    "#unscaled_inputs = df_asset.iloc[:,:-5]\n",
    "assets = ['Gold','Silver','Iron','Copper','WTI','Brent','RBA Cash Rate']\n",
    "unscaled_inputs = df_asset[assets]\n",
    "copper_gold_ratio = unscaled_inputs['Copper'] / unscaled_inputs['Gold']\n",
    "unscaled_inputs['CopperGoldRatio'] = copper_gold_ratio\n",
    "assets.append('CopperGoldRatio')\n",
    "for x in assets:\n",
    "    unscaled_inputs[x+' (Return %)'] = (unscaled_inputs[x] - unscaled_inputs[x].shift(1)) / unscaled_inputs[x]\n",
    "    list_returns = []\n",
    "    for i in range(unscaled_inputs[x+' (Return %)'].shape[0]):\n",
    "        list_returns.append(math.log1p(unscaled_inputs[x+' (Return %)'].values[i]))\n",
    "    unscaled_inputs[x+' (Return %)'] = list_returns\n",
    "unscaled_inputs = unscaled_inputs.dropna()\n",
    "#asset_scaler = StandardScaler()\n",
    "#asset_scaler.fit(unscaled_inputs)\n",
    "#scaled_inputs = asset_scaler.transform(unscaled_inputs)\n",
    "scaled_inputs = unscaled_inputs"
   ]
  },
  {
   "cell_type": "markdown",
   "metadata": {},
   "source": [
    "## 4) Model selection \n",
    "\n",
    "1st principle of model selection - a simpler model is better than a complex one, as long as model accuracy is not significantly compromised. Hence,\n",
    "\n",
    "Model #1 shall be Logistic Regression.\n",
    "\n",
    "Model #2 shall be XGBoost.\n",
    "\n",
    "Model #3 shall be Naive Bayes.\n",
    "\n",
    "After all models are fitted, the intention is to stack the results of these models together, to see if that results in greater predictive accuracy.\n",
    "\n",
    "Look-ahead bias should be avoided at all costs; as this will discredit any predictions generated by the model.\n",
    "\n",
    "### 4.1) Logistic Regression Model\n",
    "The log (Return %) features have been selected for this model. The target is a binary classifer which returns:\n",
    "* TRUE if XAO (Return %) is greater than 0 (buy)\n",
    "* FALSE if XAO (Return %) is lesser than 0 (sell)"
   ]
  },
  {
   "cell_type": "code",
   "execution_count": 164,
   "metadata": {},
   "outputs": [
    {
     "name": "stderr",
     "output_type": "stream",
     "text": [
      "C:\\Users\\mahle\\Anaconda3\\lib\\site-packages\\sklearn\\linear_model\\logistic.py:433: FutureWarning: Default solver will be changed to 'lbfgs' in 0.22. Specify a solver to silence this warning.\n",
      "  FutureWarning)\n"
     ]
    },
    {
     "data": {
      "text/plain": [
       "LogisticRegression(C=1.0, class_weight=None, dual=False, fit_intercept=True,\n",
       "          intercept_scaling=1, max_iter=100, multi_class='warn',\n",
       "          n_jobs=None, penalty='l2', random_state=None, solver='warn',\n",
       "          tol=0.0001, verbose=0, warm_start=False)"
      ]
     },
     "execution_count": 164,
     "metadata": {},
     "output_type": "execute_result"
    }
   ],
   "source": [
    "from sklearn.linear_model import LogisticRegression\n",
    "from sklearn import metrics\n",
    "reg = LogisticRegression()\n",
    "target = df_asset['Return (%)'][1:] > 0\n",
    "reg.fit(scaled_inputs,target.values)"
   ]
  },
  {
   "cell_type": "markdown",
   "metadata": {},
   "source": [
    "# Feature Significance\n",
    "Odds Ratio close to 1 indicates that the feature does not contribute significantly to the model, and could be removed from the model."
   ]
  },
  {
   "cell_type": "code",
   "execution_count": 165,
   "metadata": {},
   "outputs": [
    {
     "data": {
      "text/html": [
       "<div>\n",
       "<style scoped>\n",
       "    .dataframe tbody tr th:only-of-type {\n",
       "        vertical-align: middle;\n",
       "    }\n",
       "\n",
       "    .dataframe tbody tr th {\n",
       "        vertical-align: top;\n",
       "    }\n",
       "\n",
       "    .dataframe thead th {\n",
       "        text-align: right;\n",
       "    }\n",
       "</style>\n",
       "<table border=\"1\" class=\"dataframe\">\n",
       "  <thead>\n",
       "    <tr style=\"text-align: right;\">\n",
       "      <th></th>\n",
       "      <th>Feature Name</th>\n",
       "      <th>Coefficient</th>\n",
       "      <th>Odds_Ratio</th>\n",
       "    </tr>\n",
       "  </thead>\n",
       "  <tbody>\n",
       "    <tr>\n",
       "      <th>12</th>\n",
       "      <td>Copper (Return %)</td>\n",
       "      <td>0.973334</td>\n",
       "      <td>2.646754</td>\n",
       "    </tr>\n",
       "    <tr>\n",
       "      <th>16</th>\n",
       "      <td>CopperGoldRatio (Return %)</td>\n",
       "      <td>0.858040</td>\n",
       "      <td>2.358533</td>\n",
       "    </tr>\n",
       "    <tr>\n",
       "      <th>10</th>\n",
       "      <td>Silver (Return %)</td>\n",
       "      <td>0.341925</td>\n",
       "      <td>1.407655</td>\n",
       "    </tr>\n",
       "    <tr>\n",
       "      <th>0</th>\n",
       "      <td>Intercept</td>\n",
       "      <td>0.317471</td>\n",
       "      <td>1.373650</td>\n",
       "    </tr>\n",
       "    <tr>\n",
       "      <th>8</th>\n",
       "      <td>CopperGoldRatio</td>\n",
       "      <td>0.186498</td>\n",
       "      <td>1.205022</td>\n",
       "    </tr>\n",
       "    <tr>\n",
       "      <th>9</th>\n",
       "      <td>Gold (Return %)</td>\n",
       "      <td>0.074643</td>\n",
       "      <td>1.077500</td>\n",
       "    </tr>\n",
       "    <tr>\n",
       "      <th>11</th>\n",
       "      <td>Iron (Return %)</td>\n",
       "      <td>0.029360</td>\n",
       "      <td>1.029795</td>\n",
       "    </tr>\n",
       "    <tr>\n",
       "      <th>5</th>\n",
       "      <td>WTI</td>\n",
       "      <td>0.003897</td>\n",
       "      <td>1.003904</td>\n",
       "    </tr>\n",
       "    <tr>\n",
       "      <th>2</th>\n",
       "      <td>Silver</td>\n",
       "      <td>0.002751</td>\n",
       "      <td>1.002755</td>\n",
       "    </tr>\n",
       "    <tr>\n",
       "      <th>1</th>\n",
       "      <td>Gold</td>\n",
       "      <td>0.000784</td>\n",
       "      <td>1.000785</td>\n",
       "    </tr>\n",
       "    <tr>\n",
       "      <th>4</th>\n",
       "      <td>Copper</td>\n",
       "      <td>-0.000132</td>\n",
       "      <td>0.999868</td>\n",
       "    </tr>\n",
       "    <tr>\n",
       "      <th>3</th>\n",
       "      <td>Iron</td>\n",
       "      <td>-0.002029</td>\n",
       "      <td>0.997973</td>\n",
       "    </tr>\n",
       "    <tr>\n",
       "      <th>6</th>\n",
       "      <td>Brent</td>\n",
       "      <td>-0.009137</td>\n",
       "      <td>0.990905</td>\n",
       "    </tr>\n",
       "    <tr>\n",
       "      <th>15</th>\n",
       "      <td>RBA Cash Rate (Return %)</td>\n",
       "      <td>-0.075355</td>\n",
       "      <td>0.927414</td>\n",
       "    </tr>\n",
       "    <tr>\n",
       "      <th>7</th>\n",
       "      <td>RBA Cash Rate</td>\n",
       "      <td>-0.148779</td>\n",
       "      <td>0.861760</td>\n",
       "    </tr>\n",
       "    <tr>\n",
       "      <th>13</th>\n",
       "      <td>WTI (Return %)</td>\n",
       "      <td>-0.244798</td>\n",
       "      <td>0.782863</td>\n",
       "    </tr>\n",
       "    <tr>\n",
       "      <th>14</th>\n",
       "      <td>Brent (Return %)</td>\n",
       "      <td>-0.368642</td>\n",
       "      <td>0.691673</td>\n",
       "    </tr>\n",
       "  </tbody>\n",
       "</table>\n",
       "</div>"
      ],
      "text/plain": [
       "                  Feature Name  Coefficient  Odds_Ratio\n",
       "12           Copper (Return %)     0.973334    2.646754\n",
       "16  CopperGoldRatio (Return %)     0.858040    2.358533\n",
       "10           Silver (Return %)     0.341925    1.407655\n",
       "0                    Intercept     0.317471    1.373650\n",
       "8              CopperGoldRatio     0.186498    1.205022\n",
       "9              Gold (Return %)     0.074643    1.077500\n",
       "11             Iron (Return %)     0.029360    1.029795\n",
       "5                          WTI     0.003897    1.003904\n",
       "2                       Silver     0.002751    1.002755\n",
       "1                         Gold     0.000784    1.000785\n",
       "4                       Copper    -0.000132    0.999868\n",
       "3                         Iron    -0.002029    0.997973\n",
       "6                        Brent    -0.009137    0.990905\n",
       "15    RBA Cash Rate (Return %)    -0.075355    0.927414\n",
       "7                RBA Cash Rate    -0.148779    0.861760\n",
       "13              WTI (Return %)    -0.244798    0.782863\n",
       "14            Brent (Return %)    -0.368642    0.691673"
      ]
     },
     "execution_count": 165,
     "metadata": {},
     "output_type": "execute_result"
    }
   ],
   "source": [
    "feature_name = unscaled_inputs.columns.values\n",
    "summary_table = pd.DataFrame(columns=['Feature Name'], data = feature_name)\n",
    "summary_table['Coefficient'] = np.transpose(reg.coef_)\n",
    "summary_table.index = summary_table.index + 1\n",
    "summary_table.loc[0] = ['Intercept', reg.intercept_[0]]\n",
    "summary_table = summary_table.sort_index()\n",
    "summary_table['Odds_Ratio'] = np.exp(summary_table.Coefficient)\n",
    "summary_table = summary_table.sort_values('Odds_Ratio', ascending = False)\n",
    "summary_table"
   ]
  },
  {
   "cell_type": "code",
   "execution_count": 166,
   "metadata": {},
   "outputs": [
    {
     "name": "stdout",
     "output_type": "stream",
     "text": [
      "The model accuracy is: 64.61538461538461%\n"
     ]
    }
   ],
   "source": [
    "print('The model accuracy is: '+ str(100* reg.score(scaled_inputs,target.values)) + '%')"
   ]
  },
  {
   "cell_type": "markdown",
   "metadata": {},
   "source": [
    "## Conclusion of Part 2\n",
    "Initial fitting of Model #1 Logistic Regression is complete. \n",
    "\n",
    "Initial findings indicate the Copper (Return %), CopperGoldRatio (Return %) and Silver (Return %) are the most important features to predict buy/sell signals for All Ordinaries (XAO).\n",
    "\n",
    "The accuracy requires improvements to >80% to be a credible predictive model. In addition, a k means train test split model validation needs to be performed."
   ]
  },
  {
   "cell_type": "code",
   "execution_count": null,
   "metadata": {},
   "outputs": [],
   "source": []
  }
 ],
 "metadata": {
  "kernelspec": {
   "display_name": "Python 3",
   "language": "python",
   "name": "python3"
  },
  "language_info": {
   "codemirror_mode": {
    "name": "ipython",
    "version": 3
   },
   "file_extension": ".py",
   "mimetype": "text/x-python",
   "name": "python",
   "nbconvert_exporter": "python",
   "pygments_lexer": "ipython3",
   "version": "3.7.3"
  }
 },
 "nbformat": 4,
 "nbformat_minor": 2
}
